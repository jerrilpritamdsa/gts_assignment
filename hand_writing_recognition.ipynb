{
 "cells": [
  {
   "cell_type": "code",
   "execution_count": 1,
   "id": "fd29785a",
   "metadata": {},
   "outputs": [],
   "source": [
    "from sklearn.datasets import fetch_openml\n",
    "from sklearn.svm import SVC\n",
    "from sklearn.model_selection import train_test_split\n",
    "from sklearn.metrics import accuracy_score\n",
    "import matplotlib.pyplot as plt\n",
    "from sklearn.datasets import load_digits\n",
    "import numpy as np\n",
    "from sklearn.preprocessing import MinMaxScaler\n"
   ]
  },
  {
   "cell_type": "code",
   "execution_count": 2,
   "id": "7787ed8a",
   "metadata": {},
   "outputs": [
    {
     "name": "stderr",
     "output_type": "stream",
     "text": [
      "C:\\Users\\91991\\AppData\\Local\\Programs\\Python\\Python311\\Lib\\site-packages\\sklearn\\datasets\\_openml.py:968: FutureWarning: The default value of `parser` will change from `'liac-arff'` to `'auto'` in 1.4. You can set `parser='auto'` to silence this warning. Therefore, an `ImportError` will be raised from 1.4 if the dataset is dense and pandas is not installed. Note that the pandas parser may return different data types. See the Notes Section in fetch_openml's API doc for details.\n",
      "  warn(\n"
     ]
    },
    {
     "name": "stdout",
     "output_type": "stream",
     "text": [
      "Accuracy: 0.9542857142857143\n"
     ]
    }
   ],
   "source": [
    "mnist = fetch_openml('mnist_784')\n",
    "\n",
    "X_train, X_test, y_train, y_test = train_test_split(mnist.data, mnist.target, test_size=0.2, random_state=42)\n",
    "\n",
    "scaler = MinMaxScaler()\n",
    "X_train = scaler.fit_transform(X_train)\n",
    "X_test = scaler.transform(X_test)\n",
    "\n",
    "model = SVC(kernel='rbf', C=10, gamma=0.1)\n",
    "model.fit(X_train, y_train)\n",
    "\n",
    "\n",
    "\n",
    "y_pred = model.predict(X_test)\n",
    "accuracy = accuracy_score(y_test, y_pred)\n",
    "\n",
    "print('Accuracy:', accuracy)"
   ]
  },
  {
   "cell_type": "code",
   "execution_count": 4,
   "id": "0f13d971",
   "metadata": {},
   "outputs": [
    {
     "name": "stderr",
     "output_type": "stream",
     "text": [
      "C:\\Users\\91991\\AppData\\Local\\Programs\\Python\\Python311\\Lib\\site-packages\\sklearn\\base.py:439: UserWarning: X does not have valid feature names, but MinMaxScaler was fitted with feature names\n",
      "  warnings.warn(\n"
     ]
    }
   ],
   "source": [
    "idx = 100\n",
    "digit = X_test[idx]\n",
    "digit = digit.reshape((28, 28))\n",
    "\n",
    "# Flatten the 2D array to a 1D vector\n",
    "digit = digit.ravel()\n",
    "\n",
    "# Reshape the flattened vector to a 2D array with shape (1, 784)\n",
    "digit = digit.reshape((1, -1))\n",
    "\n",
    "# Scale the pixel values between 0 and 1\n",
    "digit = scaler.transform(digit)"
   ]
  },
  {
   "cell_type": "code",
   "execution_count": 5,
   "id": "dce120c9",
   "metadata": {},
   "outputs": [
    {
     "data": {
      "image/png": "[encoded data removed]",
      "text/plain": [
       "<Figure size 640x480 with 1 Axes>"
      ]
     },
     "metadata": {},
     "output_type": "display_data"
    }
   ],
   "source": [
    "label = model.predict(digit)\n",
    "\n",
    "# Plot the digit image and its predicted label\n",
    "plt.imshow(X_test[idx].reshape(28, 28), cmap='gray')\n",
    "plt.title('Predicted label: {}'.format(label[0]))\n",
    "plt.axis('off')\n",
    "plt.show()"
   ]
  },
  {
   "cell_type": "code",
   "execution_count": 10,
   "id": "793769b1",
   "metadata": {},
   "outputs": [
    {
     "ename": "ValueError",
     "evalue": "cannot reshape array of size 64 into shape (28,28)",
     "output_type": "error",
     "traceback": [
      "\u001b[1;31m---------------------------------------------------------------------------\u001b[0m",
      "\u001b[1;31mValueError\u001b[0m                                Traceback (most recent call last)",
      "Cell \u001b[1;32mIn[10], line 1\u001b[0m\n\u001b[1;32m----> 1\u001b[0m digit \u001b[38;5;241m=\u001b[39m \u001b[43mdigit\u001b[49m\u001b[38;5;241;43m.\u001b[39;49m\u001b[43mreshape\u001b[49m\u001b[43m(\u001b[49m\u001b[43m(\u001b[49m\u001b[38;5;241;43m28\u001b[39;49m\u001b[43m,\u001b[49m\u001b[43m \u001b[49m\u001b[38;5;241;43m28\u001b[39;49m\u001b[43m)\u001b[49m\u001b[43m)\u001b[49m\n\u001b[0;32m      3\u001b[0m \u001b[38;5;66;03m# Plot the digit image\u001b[39;00m\n\u001b[0;32m      4\u001b[0m plt\u001b[38;5;241m.\u001b[39mimshow(digit, cmap\u001b[38;5;241m=\u001b[39m\u001b[38;5;124m'\u001b[39m\u001b[38;5;124mgray\u001b[39m\u001b[38;5;124m'\u001b[39m)\n",
      "\u001b[1;31mValueError\u001b[0m: cannot reshape array of size 64 into shape (28,28)"
     ]
    }
   ],
   "source": [
    "digit = digit.reshape((28, 28))\n",
    "\n",
    "# Plot the digit image\n",
    "plt.imshow(digit, cmap='gray')\n",
    "plt.axis('off')\n",
    "plt.show()\n",
    "\n",
    "# Flatten the 2D array to a 1D vector\n",
    "digit = digit.ravel()\n",
    "\n",
    "# Reshape the flattened vector to a 2D array with shape (1, n_features)\n",
    "digit = digit.reshape((1, -1))\n",
    "\n",
    "# Scale the pixel values between 0 and 1\n",
    "digit = digit / 255.0"
   ]
  },
  {
   "cell_type": "code",
   "execution_count": null,
   "id": "aa74abb0",
   "metadata": {},
   "outputs": [],
   "source": [
    "\n",
    "# Scale the pixel values between 0 and 1\n",
    "digit = digit / 255.0\n",
    "\n",
    "# Predict the label of the digit image\n",
    "label = model.predict(digit)\n",
    "\n",
    "# Plot the digit image and its predicted label\n",
    "plt.imshow(digits.images[idx], cmap='gray')\n",
    "plt.title('Predicted label: {}'.format(label[0]))\n",
    "plt.axis('off')\n",
    "plt.show()"
   ]
  }
 ],
 "metadata": {
  "kernelspec": {
   "display_name": "Python 3 (ipykernel)",
   "language": "python",
   "name": "python3"
  },
  "language_info": {
   "codemirror_mode": {
    "name": "ipython",
    "version": 3
   },
   "file_extension": ".py",
   "mimetype": "text/x-python",
   "name": "python",
   "nbconvert_exporter": "python",
   "pygments_lexer": "ipython3",
   "version": "3.11.1"
  }
 },
 "nbformat": 4,
 "nbformat_minor": 5
}
